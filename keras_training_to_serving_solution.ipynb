{
 "cells": [
  {
   "cell_type": "markdown",
   "metadata": {},
   "source": [
    "# Serving a Keras Resnet Model\n",
    "\n",
    "See `resnet_training_to_serving.ipynb` for the Tensorflow Estimator API version and an outline of steps.\n",
    "\n",
    "The step to creating a servable Resnet50 model from Keras is simpler as Keras already contains in its applications package, a pre-trained Resnet50 model using imagenet. We simply have to take the Keras model, and set its inputs field and output fields in the prediction signature definition in the Tensorflow saved_model library. (Compare this to the Estimator API, where the input signature is defined by the `serving_input_receiver_fn()` dictionary argument, and the output signature is defined by the EstimatorSpec constructor's export_outputs field in the model_fn.\n",
    "\n",
    "See https://github.com/keras-team/keras/blob/master/keras/applications/resnet50.py for the implementation of ResNet50."
   ]
  },
  {
   "cell_type": "markdown",
   "metadata": {},
   "source": [
    "# Preamble\n",
    "\n",
    "Import the required libraries."
   ]
  },
  {
   "cell_type": "code",
   "execution_count": 0,
   "metadata": {},
   "outputs": [],
   "source": [
    "# Import Keras libraries\n",
    "from keras.applications.resnet50 import preprocess_input\n",
    "from keras.applications.resnet50 import ResNet50\n",
    "from keras.preprocessing import image\n",
    "from keras import backend as K\n",
    "import numpy as np\n",
    "\n",
    "# Import Tensorflow saved model libraries\n",
    "import tensorflow as tf\n",
    "from tensorflow.python.saved_model import builder as saved_model_builder\n",
    "from tensorflow.python.saved_model import utils\n",
    "from tensorflow.python.saved_model import tag_constants, signature_constants\n",
    "from tensorflow.python.saved_model.signature_def_utils_impl import build_signature_def, predict_signature_def\n",
    "from tensorflow.contrib.session_bundle import exporter"
   ]
  },
  {
   "cell_type": "code",
   "execution_count": 0,
   "metadata": {},
   "outputs": [],
   "source": [
    "# Constants\n",
    "\n",
    "_DEFAULT_IMAGE_SIZE = 224\n",
    "TOP_K = 5"
   ]
  },
  {
   "cell_type": "markdown",
   "metadata": {},
   "source": [
    "# Download the Keras model\n",
    "\n",
    "Creating a ResNet50 model will automatically download a saved model if one does not already exist locally.\n"
   ]
  },
  {
   "cell_type": "markdown",
   "metadata": {},
   "source": [
    "# Setting the Output Directory\n",
    "\n",
    "Unlike the Estimator API that automatically creates a servable version number using the unix timestamp, building a servable model directly from a tensorflow graph requires creating an explicit integer version number.\n",
    "\n",
    "Note that if you've successfully saved the servable in a directory, trying to save another servable will fail hard. You always want to increment your version number, or otherwise delete the output directory and re-run the servable creation code."
   ]
  },
  {
   "cell_type": "code",
   "execution_count": 0,
   "metadata": {},
   "outputs": [],
   "source": [
    "VERSION_NUMBER=1\n",
    "SERVING_DIR=\"keras_resnet_servable/\" + str(VERSION_NUMBER)"
   ]
  },
  {
   "cell_type": "markdown",
   "metadata": {},
   "source": [
    "# Create the Servable Model\n",
    "\n",
    "Keras has a prepackaged ImageNet-trained ResNet50 model which takes in a 4d input tensor and outputs a list of class probabilities for all of the classes.\n",
    "\n",
    "We will create a servable model whose input and output formats are identical to that provided in the Estimator API version (`resnet_training_to_serving_solution.ipynb`). Basically, the input needs is a list of jpegs, and the output needs to contain the top k classes and probabilities. This will require connecting a Tensorflow placeholder and preprocessing functions to the Keras model input."
   ]
  },
  {
   "cell_type": "code",
   "execution_count": 0,
   "metadata": {},
   "outputs": [],
   "source": [
    "# Preprocessing helper function similar to `resnet_training_to_serving_solution.ipynb`.\n",
    "\n",
    "def preprocess_image(encoded_image, height=_DEFAULT_IMAGE_SIZE, width=_DEFAULT_IMAGE_SIZE):\n",
    "  \"\"\"Preprocesses the image by subtracting out the mean from all channels.\n",
    "  Args:\n",
    "    image: A jpeg-formatted byte stream represented as a string.\n",
    "  Returns:\n",
    "    A 3d tensor of image pixels normalized using the resnet50-specific Keras default preprocessor\n",
    "  \"\"\"\n",
    "  image = tf.image.decode_jpeg(encoded_image, channels=3)\n",
    "  image = tf.to_float(image)\n",
    "  image = preprocess_input(image)\n",
    "  return image"
   ]
  },
  {
   "cell_type": "markdown",
   "metadata": {},
   "source": [
    "# Input to the Keras Model\n",
    "\n",
    "As with the Estimator, the graph starts at the bottom with a [Tensorflow placeholder](https://www.tensorflow.org/api_docs/python/tf/placeholder), which can receive an array of jpeg-encoded strings\n",
    "from the client. The placeholder needs to be further processed before being fed into the Keras model.\n",
    "\n",
    "**Exercise:** You will need to modify the input to the Keras Model to be compliant with `client/resnet_client.py`.\n",
    "As in the Estimator example, you need to preprocess a list of jpegs encoded as strings into a 4D tensor `processed_images` with appropriate dimensions [-1, 224, 224, 3]. (-1 means undetermined.)\n",
    "\n",
    "**HINT:** See resnet_model_fn() in `resnet_training_to_serving_solution.ipynb`."
   ]
  },
  {
   "cell_type": "code",
   "execution_count": 0,
   "metadata": {},
   "outputs": [],
   "source": [
    "images = tf.placeholder(dtype=tf.string, shape=[None])\n",
    "\n",
    "processed_images = tf.map_fn(preprocess_image, images, dtype=tf.float32)  # Convert to a list of tensors\n",
    "processed_images = tf.stack(processed_images)  # Convert list of tensors to tensor of tensors\n",
    "processed_images = tf.reshape(tensor=processed_images,  # Reshape to ensure TF graph knows the final dimensions\n",
    "                            shape=[-1, _DEFAULT_IMAGE_SIZE, _DEFAULT_IMAGE_SIZE, 3])"
   ]
  },
  {
   "cell_type": "markdown",
   "metadata": {},
   "source": [
    "# Load the Keras Model\n",
    "\n",
    "The Keras Model uses Tensorflow as its backend, and therefore its inputs and outputs can be treated as elements of a Tensorflow graph. In other words, you can provide an input that is a Tensorflow tensor, and read the model output like a Tensorflow tensor!\n",
    "\n",
    "**Exercise**: Assign the 4D tensor of processed images to the input_tensor parameter."
   ]
  },
  {
   "cell_type": "code",
   "execution_count": 0,
   "metadata": {},
   "outputs": [],
   "source": [
    "# Load the ResNet50 Keras Model with processed_images as input\n",
    "model = ResNet50(include_top=True, weights='imagenet', input_tensor=processed_images)\n",
    "# Rename the model to 'resnet'\n",
    "model.name = 'resnet'"
   ]
  },
  {
   "cell_type": "markdown",
   "metadata": {},
   "source": [
    "# Output from the Keras Model\n",
    "\n",
    "**Exercise:** Postprocess the output of the Keras Model to return the top k classes and probabilities predicted by the model. The Keras ResNet50 model returns an array of 1001 probabilities for each of the classes + the unknown class.\n",
    "\n",
    "**HINT:** This is similar to but slightly different from resnet_model_fn() in `resnet_training_to_serving_solution.ipynb`."
   ]
  },
  {
   "cell_type": "code",
   "execution_count": 0,
   "metadata": {},
   "outputs": [],
   "source": [
    "top_k_probs, top_k_classes = tf.nn.top_k(model.output, k=TOP_K)\n",
    "\n",
    "predictions = {\n",
    "  'classes': top_k_classes,\n",
    "  'probabilities': top_k_probs)\n",
    "}\n",
    "\n",
    "# Create a saved model builder, and save the model\n",
    "builder = saved_model_builder.SavedModelBuilder(SERVING_DIR)\n",
    "\n",
    "signature = predict_signature_def(inputs={'images': images},\n",
    "                                  outputs=predictions)\n",
    "\n"
   ]
  },
  {
   "cell_type": "markdown",
   "metadata": {},
   "source": [
    "# Build the Servable"
   ]
  },
  {
   "cell_type": "code",
   "execution_count": 0,
   "metadata": {},
   "outputs": [],
   "source": [
    "with K.get_session() as sess:\n",
    "    builder.add_meta_graph_and_variables(sess=sess,\n",
    "                                         tags=[tag_constants.SERVING],\n",
    "                                         signature_def_map={'predict': signature})\n",
    "    builder.save()"
   ]
  }
 ],
 "metadata": {
  "kernelspec": {
   "display_name": "Python 3",
   "language": "python",
   "name": "python3"
  }
 },
 "nbformat": 4,
 "nbformat_minor": 2
}
